{
  "nbformat": 4,
  "nbformat_minor": 0,
  "metadata": {
    "colab": {
      "name": "Uruguay_PBI.ipynb",
      "provenance": [],
      "include_colab_link": true
    },
    "kernelspec": {
      "name": "python3",
      "display_name": "Python 3"
    },
    "language_info": {
      "name": "python"
    }
  },
  "cells": [
    {
      "cell_type": "markdown",
      "metadata": {
        "id": "view-in-github",
        "colab_type": "text"
      },
      "source": [
        "<a href=\"https://colab.research.google.com/github/Ferordenana/Python/blob/master/Uruguay_PBI.ipynb\" target=\"_parent\"><img src=\"https://colab.research.google.com/assets/colab-badge.svg\" alt=\"Open In Colab\"/></a>"
      ]
    },
    {
      "cell_type": "markdown",
      "source": [
        "Ejercicio 1"
      ],
      "metadata": {
        "id": "Ouef7rhch7G3"
      }
    },
    {
      "cell_type": "code",
      "execution_count": null,
      "metadata": {
        "id": "df_1Ub4xaiGX"
      },
      "outputs": [],
      "source": [
        "import matplotlib.pyplot as plt\n",
        "import numpy as np\n",
        "\n",
        "x=np.arange(-5, 10 , 0.1)\n",
        "f= (-11/49 * x ** 2) + x + 5 \n",
        "g= (-4/7 * x ) + 5\n",
        "\n",
        "plt.scatter( x= 0 , y = 5 , marker=\"v\")\n",
        "plt.scatter( x= 7 , y = 1)\n",
        "\n",
        "\n",
        "plt.plot (x, f)\n",
        "plt.grid ( True)\n",
        "plt.xlabel (\"X\")\n",
        "plt.ylabel(\"F(x)\")\n",
        "plt.plot ( x , g)\n",
        "plt.title(\"Grafico de F(x) y G(x) y sus puntos de intersección\")\n",
        "\n"
      ]
    },
    {
      "cell_type": "markdown",
      "source": [
        "Ejercicio 2) a)"
      ],
      "metadata": {
        "id": "jxatOS5LrlYf"
      }
    },
    {
      "cell_type": "code",
      "source": [
        "x1= 2\n",
        "x2= 9\n",
        "x3= 3/2\n",
        "''' '''\n",
        "#x1\n",
        "if (3*x1-5 == x1-1): \n",
        "  print( \"X =\",x1,\"Es solucion de la ecuacion\")\n",
        "else:\n",
        "  print( \"X =\",x1, \"No es solucion de la ecuacion\")\n",
        "\n",
        "\"\"\"if (3*x1-5 == -(x1-1)):\n",
        "  print(\"Modulo de x1\", x1,\"Es solucion de la ecuacion\") \n",
        "else: \n",
        "  print(\"Modulo de x1\", x1,\"No es solucion de la ecuacion\") \"\"\"\n",
        "#x2\n",
        "if (3*x2-5 == x2-1):\n",
        "  print(\"X =\",x2, \" Es solucion de la ecuacion\")\n",
        "else:\n",
        "  print(\"X =\",x2, \"No es solucion de la ecuacion\")\n",
        "\n",
        "print(\" Existen otros valores que satisfacen la ecuación:\")\n",
        "#x3\n",
        "if (3*x3-5 == -(x3-1)):\n",
        "  print(\"X =\",x3, \"Es solucion de la ecuacion\")\n",
        "else:\n",
        "  print(\"X =\",x3, \"No es solucion de la ecuacion\")\n",
        "\n",
        "print(\"\"\"|3*x -5| = x-1\n",
        "3*x -5 = -(x-1)\n",
        "3*x -5 = -x +1 \n",
        "3*x + x = 1 + 5\n",
        "4*x = 6 \n",
        "x = 6/4\n",
        "x =3/2\"\"\")\n"
      ],
      "metadata": {
        "id": "UjtDGWCjrj7z"
      },
      "execution_count": null,
      "outputs": []
    },
    {
      "cell_type": "markdown",
      "source": [
        "Ejercicio 2 b) c) "
      ],
      "metadata": {
        "id": "az2L2X3z-5zq"
      }
    },
    {
      "cell_type": "code",
      "source": [
        "import matplotlib.pyplot as plt\n",
        "import numpy as np\n",
        "\n",
        "x=np.arange(-2, 10 , 0.1)\n",
        "f = abs(x-5)\n",
        "g = f + 1\n",
        "plt.plot (x, g , c= \"violet\")\n",
        "plt.grid ( True)\n",
        "plt.xlabel (\"X\")\n",
        "plt.ylabel(\"F(x\")\n",
        "plt.title(\"Grafico de F(x)=|x-5|+1 \")\n",
        "plt.scatter( x= 6 , y = 2 , marker=\"v\")\n",
        "plt.scatter( x= 1 , y = 5 , marker=\"s\")\n",
        "\n",
        "print(\"\"\"|x -5| + 1 =    x>=0\n",
        "| 1 - 5 |+ 1 =  \n",
        "4 + 1 = 5\n",
        "\"\"\")\n",
        "\n"
      ],
      "metadata": {
        "id": "Ly06B7NWsEZs"
      },
      "execution_count": null,
      "outputs": []
    },
    {
      "cell_type": "markdown",
      "source": [
        "Ejercicio 3 "
      ],
      "metadata": {
        "id": "WDyeFyuB_Cz5"
      }
    },
    {
      "cell_type": "code",
      "source": [
        "import matplotlib.pyplot as plt\n",
        "import numpy as np\n",
        "\n",
        "x=np.arange(-60, 110 , 0.1)\n",
        "f= (2 * x ** 2) -100 * x - 3750 \n",
        "g= (100 * x ) - 7500\n",
        "\n",
        "plt.scatter( x= 25 , y = -5000 , marker=\"v\" , c= \"green\")\n",
        "plt.scatter( x= 0 , y = -7500, c=\"red\")\n",
        "plt.scatter( x= 75 , y = 0, c= \"green\" )\n",
        "\n",
        "plt.plot (x, f)\n",
        "plt.grid ( True)\n",
        "plt.xlabel (\"X\")\n",
        "plt.ylabel(\"F(x)\")\n",
        "plt.plot ( x , g)\n",
        "plt.title(\"Grafico de F(x) y G(x) y sus puntos de intersección, el vertice de f(x) y la ordenada al origen de g (x)\")\n",
        "\n",
        "plt.legend(['F(x)', 'G(x)', 'Vertice y punto de intersección', 'Ordenada al origen de G(x)', 'Punto de intersección'] , title='Referencia:', loc='upper left')\n"
      ],
      "metadata": {
        "id": "30wPPMAJ_CkA"
      },
      "execution_count": null,
      "outputs": []
    },
    {
      "cell_type": "markdown",
      "source": [
        "Ejercicio 4 "
      ],
      "metadata": {
        "id": "RTaXGcktZ3Th"
      }
    },
    {
      "cell_type": "code",
      "source": [
        "pip install gapminder"
      ],
      "metadata": {
        "colab": {
          "base_uri": "https://localhost:8080/"
        },
        "id": "10hmb7dnbMwH",
        "outputId": "d59a119f-0011-486f-e796-e3746d2e8bc7"
      },
      "execution_count": null,
      "outputs": [
        {
          "output_type": "stream",
          "name": "stdout",
          "text": [
            "Collecting gapminder\n",
            "  Downloading gapminder-0.1-py3-none-any.whl (32 kB)\n",
            "Requirement already satisfied: pandas in /usr/local/lib/python3.7/dist-packages (from gapminder) (1.3.5)\n",
            "Requirement already satisfied: pytz>=2017.3 in /usr/local/lib/python3.7/dist-packages (from pandas->gapminder) (2022.1)\n",
            "Requirement already satisfied: numpy>=1.17.3 in /usr/local/lib/python3.7/dist-packages (from pandas->gapminder) (1.21.6)\n",
            "Requirement already satisfied: python-dateutil>=2.7.3 in /usr/local/lib/python3.7/dist-packages (from pandas->gapminder) (2.8.2)\n",
            "Requirement already satisfied: six>=1.5 in /usr/local/lib/python3.7/dist-packages (from python-dateutil>=2.7.3->pandas->gapminder) (1.15.0)\n",
            "Installing collected packages: gapminder\n",
            "Successfully installed gapminder-0.1\n"
          ]
        }
      ]
    },
    {
      "cell_type": "code",
      "source": [
        "# Lista completa de países disponibles\n",
        "from gapminder import gapminder\n",
        "gapminder.country.unique()\n",
        "\n",
        "import matplotlib.pyplot as plt\n",
        "import numpy as np\n",
        "\n",
        "# Pais seleccionado (Presionar Run)\n",
        "pais = \"Uruguay\"\n",
        "data = gapminder[gapminder.country == pais]\n",
        "year = data.year # eje x\n",
        "PBI = data.gdpPercap # eje y\n",
        "year\n",
        "\n",
        "plt.plot(year, PBI)\n",
        "plt.grid ( True)\n",
        "plt.xlabel (\"Año\")\n",
        "plt.  ylabel (\"PBI\")\n",
        "plt. title (\"PBI per capita de Uruguay 1952-2007\")\n"
      ],
      "metadata": {
        "id": "HkztwsPNZ2WQ",
        "colab": {
          "base_uri": "https://localhost:8080/",
          "height": 313
        },
        "outputId": "2125f142-d896-41e2-a62e-d6b09ddd3c0a"
      },
      "execution_count": null,
      "outputs": [
        {
          "output_type": "execute_result",
          "data": {
            "text/plain": [
              "Text(0.5, 1.0, 'PBI per capita de Uruguay 1952-2007')"
            ]
          },
          "metadata": {},
          "execution_count": 3
        },
        {
          "output_type": "display_data",
          "data": {
            "text/plain": [
              "<Figure size 432x288 with 1 Axes>"
            ],
            "image/png": "[encoded data removed]"
          },
          "metadata": {
            "needs_background": "light"
          }
        }
      ]
    },
    {
      "cell_type": "markdown",
      "source": [
        "\n",
        "Esta gráfica contiene información sobre el PBI en Uruguay en un periodo de 55 años (1952-2007). Las variables que intervienen son 2:\n",
        "\n",
        "*  -El PBI por persona, medido en dólares anuales.\n",
        "*  -El tiempo, medido en años.\n",
        " \n",
        "> La gráfica inicia en 1952 con un\n",
        "PBI per capita aproximado de 5700 dólares y, desde ahí, tiene una tendencia ascendente hasta 1957, en este lapso el PBI creció de 5700 a 6200 dolares; un 8%.\n",
        "\n",
        "\n",
        "\n",
        "\n",
        "> Luego tiene un decrecimiento muy notable desde 1957 hasta 1967, durante esos 10 años el porcentaje del PBI disminuye nada más ni nada menos que un 12%, llegando así Uruguay a tener un PBI per capita de 5400 dólares, el cual era incluso menor que el de **1953; el PBI más bajo de todo esta gráfica**. \n",
        "\n",
        "> *Esta gran baja en el PBI se debe mayormente a la creación de la Comunidad Económica Europea(CEE), la que luego sería; La Unión Europea (EU), ya que gran parte de las exportaciones de Uruguay iban dirigidas hacia los países europeos. Esto generó una caída repentina del PBI uruguayo, lo cual generó mucho caos y tanto fuerzas sindicalistas, como partidos nacionalistas y socialistas comenzaron a ganar mucho terreno.\n",
        "También, es importante destacar que, a partir de este tramo, Uruguay comienza a exportar principalmente hacia Argentina, esto más adelante tendrá un papel muy importante en el PBI Uruguayo*. \n",
        "\n",
        "\n",
        "> Durante el periodo que va desde 1967 hasta 1997 podemos ver un crecimiento sin pausa que va desde 5400 dólares, hasta 9200 dólares. Una extraordinaria subida del 70% del PBI; logrando así, una subida de más de un 2% anual durante 30 años ininterrumpidamente.\n",
        "\n",
        "> En el periodo que abarca solamente desde 1997 hasta 2002, podemos ver una gran caída del PBI, desde 9200 dolares hasta 7800 dolares anuales, cayendo un increíble 15%, un promedio de 3% anual.\n",
        "\n",
        "> *En esta bajada es muy importante tener en cuenta lo mencionado anteriormente sobre el papel de Argentina en la economía uruguaya; **a partir de la creación de la Union Europea, Uruguay comienza a tener una gran dependencia con la economía Argentina,** debido a que era el país al que mas de sus exportaciones iban dirigidas, ya que en este mismo periodo de 1998-2002 Argentina entra en crisis y decae de una forma muy similar a la de Uruguay. De hecho al comparar las graficas de Argentina y Uruguay en estos años son extremadamente parecidas*.\n",
        "\n",
        "> En el último periodo de este gráfico; el cual abarca desde 2002 hasta 2007, podemos ver un excepcional crecimiento del PBI uruguayo, **un crecimiento del 34% del PBI uruguayo, el cual es el PBI más alto de toda la gráfica, llegando a máximos históricos en el 2007.**El PBI per cápita se incrementó desde los 7800 dólares, superando los 10500 dólares al año.\n",
        "\n",
        " \n",
        "\n",
        "> *A partir de 2002, Uruguay fue consiguiendo varios socios comerciales ademas de Argentina, y empezaron a mejorar mucho mas su economia; disminuyendo asi, su dependencia con Argentina.*\n",
        "\n",
        "> Este gráfico, nos permite apreciar una clara tendencia a la suba del PBI per capita al largo plazo, aunque si recortamos y analizamos por periodos mas pequeños, hay momentos en los que la tendencia al descenso prevalece; si esto se mantiene, el PBI de Uruguay seguirá incrementandose con el paso del tiempo.\n",
        "\n",
        "\n",
        "\n",
        "\n",
        "\n",
        "\n",
        "\n",
        "\n",
        "\n",
        "\n",
        "\n",
        "\n",
        "\n",
        "\n",
        "\n"
      ],
      "metadata": {
        "id": "T-r4VbFlLavY"
      }
    },
    {
      "cell_type": "code",
      "source": [
        ""
      ],
      "metadata": {
        "id": "Dwf40oqQipjX"
      },
      "execution_count": null,
      "outputs": []
    },
    {
      "cell_type": "code",
      "source": [
        "from gapminder import gapminder\n",
        "gapminder.country.unique()\n",
        "\n",
        "import matplotlib.pyplot as plt\n",
        "\n",
        "pais = \"Argentina\"\n",
        "data = gapminder[gapminder.country == pais]\n",
        "year = data.year # eje x\n",
        "PBI = data.gdpPercap # eje y\n",
        "\n",
        "plt.plot(year, PBI)\n",
        "plt.grid ( True)\n",
        "plt.xlabel (\"Año\")\n",
        "plt.  ylabel (\"PBI\")\n",
        "plt. title (\"PBI per capita de Argentina (1952-2007)\")"
      ],
      "metadata": {
        "colab": {
          "base_uri": "https://localhost:8080/",
          "height": 313
        },
        "id": "iHSMRqjTuOpP",
        "outputId": "0f1d91e7-342c-404a-dcc6-9ff64cfbab0d"
      },
      "execution_count": null,
      "outputs": [
        {
          "output_type": "execute_result",
          "data": {
            "text/plain": [
              "Text(0.5, 1.0, 'PBI per capita de Argentina (1952-2007)')"
            ]
          },
          "metadata": {},
          "execution_count": 8
        },
        {
          "output_type": "display_data",
          "data": {
            "text/plain": [
              "<Figure size 432x288 with 1 Axes>"
            ],
            "image/png": "[encoded data removed]"
          },
          "metadata": {
            "needs_background": "light"
          }
        }
      ]
    }
  ]
}