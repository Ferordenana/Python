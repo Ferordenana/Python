{
  "nbformat": 4,
  "nbformat_minor": 0,
  "metadata": {
    "colab": {
      "provenance": [],
      "authorship_tag": "ABX9TyMoQP+BsUfp7SQNYHPoV+AL",
      "include_colab_link": true
    },
    "kernelspec": {
      "name": "python3",
      "display_name": "Python 3"
    },
    "language_info": {
      "name": "python"
    }
  },
  "cells": [
    {
      "cell_type": "markdown",
      "metadata": {
        "id": "view-in-github",
        "colab_type": "text"
      },
      "source": [
        "<a href=\"https://colab.research.google.com/github/Ferordenana/Python/blob/master/Python_Exercises.ipynb\" target=\"_parent\"><img src=\"https://colab.research.google.com/assets/colab-badge.svg\" alt=\"Open In Colab\"/></a>"
      ]
    },
    {
      "cell_type": "markdown",
      "source": [
        "# **Ejercicio 1**\n",
        "\n",
        "1) Se solicita un programa que permita\n",
        "al usuario ingresar los montos de las\n",
        "compras de un cliente (se desconoce la\n",
        "cantidad de datos que cargará, la cual\n",
        "puede cambiar en cada ejecución),\n",
        "cortando el ingreso de datos cuando el\n",
        "usuario ingrese el monto 0. Si ingresa\n",
        "un monto negativo, no se debe\n",
        "procesar y se debe pedir que ingrese\n",
        "un nuevo monto. Al finalizar, informar\n",
        "el total a pagar teniendo que cuenta\n",
        "que, si las ventas superan el monto\n",
        "total de 1000, se le debe aplicar un\n",
        "10% de descuento.\n"
      ],
      "metadata": {
        "id": "J_O0Z47S2Fkp"
      }
    },
    {
      "cell_type": "code",
      "execution_count": null,
      "metadata": {
        "colab": {
          "base_uri": "https://localhost:8080/"
        },
        "id": "e-T7DNz22Ar2",
        "outputId": "db4f083a-2244-4f8e-e0dc-0d23f5d86e53"
      },
      "outputs": [
        {
          "output_type": "stream",
          "name": "stdout",
          "text": [
            "Ingrese el monto: 5000\n",
            "Ingrese el monto: 500\n",
            "Ingrese el monto: 0\n",
            "El total a pagar es: 4950.0\n"
          ]
        }
      ],
      "source": [
        "#acumulador\n",
        "total = 0\n",
        "\n",
        "monto = 1\n",
        "while monto != 0:\n",
        "    monto = int(input(\"Ingrese el monto: \"))\n",
        "\n",
        "    while monto <  0:\n",
        "        print(\"Monto rechazado. Ingrese un nuevo monto\") \n",
        "        monto = int(input(\"Ingrese el monto: \"))\n",
        "    total = total + monto \n",
        "if total > 1000:\n",
        "    total = total - (total * 0.1) \n",
        "print(f\"El total a pagar es: {total}\")\n"
      ]
    },
    {
      "cell_type": "markdown",
      "source": [
        "# **Ejercicio 2**\n",
        "2) Se solicita un programa que permita\n",
        "al usuario ingresar una cantidad de\n",
        "números positivos indefinida (la\n",
        "cantidad que ingresará no se conoce y\n",
        "puede cambiar en cada ejecución),\n",
        "finalizando cuando ingresa el número\n",
        "0 (que no se tendrá en cuenta). Una\n",
        "vez terminada la lectura de números,\n",
        "informar cuál fue el mayor de los\n",
        "números ingresados.\n"
      ],
      "metadata": {
        "id": "0ems-M4T2hOS"
      }
    },
    {
      "cell_type": "code",
      "source": [
        "numero = 1\n",
        "numero_mayor = 0\n",
        "\n",
        "while numero != 0:\n",
        "\n",
        "    numero = int(input(\"Ingrese un numero: \"))\n",
        "    \n",
        "    \n",
        "    if numero > numero_mayor:\n",
        "        numero_mayor = numero\n",
        "\n",
        "print(numero_mayor)"
      ],
      "metadata": {
        "id": "zcMIA_zv2I8R"
      },
      "execution_count": null,
      "outputs": []
    },
    {
      "cell_type": "markdown",
      "source": [
        "# **Ejercicio 3**\n",
        "\n",
        "3) Se solicita un programa que pregunte al\n",
        "usuario si desea analizar calificaciones de\n",
        "alumnos y, sólo si responde “S” comenzará\n",
        "el procesamiento de los datos, hasta que el\n",
        "usuario ingrese algo diferente de “S”. Por\n",
        "cada alumno, permitir ingresar su\n",
        "calificación. Si es mayor o igual a 4 el\n",
        "alumno está aprobado. Finalmente, mostrar\n",
        "“Porcentaje de alumnos aprobados: x %”\n",
        "(donde x es el porcentaje de aprobados\n",
        "sobre el total de calificaciones procesadas).\n",
        "También se debe imprimir “Promedio de los\n",
        "aprobados: y” (donde y es la calificación\n",
        "promedio, sólo de los alumnos aprobados)."
      ],
      "metadata": {
        "id": "4-udBXr42l5L"
      }
    },
    {
      "cell_type": "code",
      "source": [
        "condicion = 'S'\n",
        "contador = 0\n",
        "\n",
        "contador_aprobados = 0\n",
        "acumulador_aprobados = 0\n",
        "while condicion == 'S':\n",
        "    calificacion = int(input(\"Ingrese la nota: \"))\n",
        "\n",
        "    if calificacion >= 4:\n",
        "        contador_aprobados+=1\n",
        "        acumulador_aprobados = acumulador_aprobados + calificacion\n",
        "    contador +=1\n",
        "    condicion = input(\"Si desea continuar: Ingrese 'S' \").upper()\n",
        "\n",
        "print(f\"El porcentaje de aprobados es: {(contador_aprobados * 100) / contador} \")\n",
        "print(f\"El promedio de los aprobados es de: {acumulador_aprobados / contador_aprobados}\")"
      ],
      "metadata": {
        "colab": {
          "base_uri": "https://localhost:8080/"
        },
        "id": "myGQdOZa2pVP",
        "outputId": "06b4aa27-d14e-415a-e99e-ef4f657533e9"
      },
      "execution_count": null,
      "outputs": [
        {
          "output_type": "stream",
          "name": "stdout",
          "text": [
            "Ingrese la nota: 7\n",
            "Si desea continuar: Ingrese 'S' s\n",
            "Ingrese la nota: 6\n",
            "Si desea continuar: Ingrese 'S' 7\n",
            "El porcentaje de aprobados es: 100.0 \n",
            "El promedio de los aprobados es de: 6.5\n"
          ]
        }
      ]
    }
  ]
}